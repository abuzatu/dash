{
 "cells": [
  {
   "cell_type": "markdown",
   "metadata": {},
   "source": [
    "# Dash App Layout With Figure and Slider \n",
    "\n",
    "https://dash.plotly.com/basic-callbacks"
   ]
  },
  {
   "cell_type": "code",
   "execution_count": null,
   "metadata": {},
   "outputs": [],
   "source": [
    "# import required libraries \n",
    "from jupyter_dash import JupyterDash\n",
    "import dash_core_components as dcc # for graphs\n",
    "import dash_html_components as html # for html\n",
    "from dash.dependencies import Input, Output # for callbacks\n",
    "import plotly.express as px\n",
    "import pandas as pd"
   ]
  },
  {
   "cell_type": "code",
   "execution_count": null,
   "metadata": {},
   "outputs": [],
   "source": [
    "# we'll use an external CSS style sheet\n",
    "EXTERNAL_STYLESHEETS = ['https://codepen.io/chriddyp/pen/bWLwgP.css']"
   ]
  },
  {
   "cell_type": "code",
   "execution_count": null,
   "metadata": {},
   "outputs": [],
   "source": [
    "# read data of statistics for countries from 1952 to 2007, at every 5 year interval\n",
    "# for every country and year: population, life expectency, GDP per capita\n",
    "df = pd.read_csv('https://raw.githubusercontent.com/plotly/datasets/master/gapminderDataFiveYear.csv')\n",
    "df"
   ]
  },
  {
   "cell_type": "code",
   "execution_count": null,
   "metadata": {},
   "outputs": [],
   "source": [
    "df[df.country == \"Romania\"]"
   ]
  },
  {
   "cell_type": "code",
   "execution_count": null,
   "metadata": {},
   "outputs": [],
   "source": [
    "# initialize the dash app\n",
    "app = JupyterDash(__name__, external_stylesheets = EXTERNAL_STYLESHEETS ) "
   ]
  },
  {
   "cell_type": "code",
   "execution_count": null,
   "metadata": {},
   "outputs": [],
   "source": [
    "# layout of the dashboard, without writing explicit html\n",
    "app.layout = html.Div([\n",
    "    dcc.Graph(id='graph-with-slider'),\n",
    "    dcc.Slider(\n",
    "        id='year-slider',\n",
    "        min=df['year'].min(),\n",
    "        max=df['year'].max(),\n",
    "        value=df['year'].min(),\n",
    "        marks={str(year): str(year) for year in df['year'].unique()},\n",
    "        step=None\n",
    "    )\n",
    "])"
   ]
  },
  {
   "cell_type": "code",
   "execution_count": null,
   "metadata": {},
   "outputs": [],
   "source": [
    "# function ow to update the data at each callback\n",
    "# note the code for function and the callback decorators must be together in the same cell\n",
    "@app.callback(\n",
    "    Output('graph-with-slider', 'figure'),\n",
    "    Input('year-slider', 'value'))\n",
    "\n",
    "def update_figure(selected_year):\n",
    "    df_year = df[df.year == selected_year]\n",
    "\n",
    "    fig = px.scatter(df_year,\n",
    "                     x = \"gdpPercap\",\n",
    "                     y = \"lifeExp\",\n",
    "                     size = \"pop\",\n",
    "                     color = \"continent\",\n",
    "                     hover_name = \"country\",\n",
    "                     log_x = True,\n",
    "                     size_max = 55)\n",
    "\n",
    "    fig.update_layout(transition_duration = 2) # does not work for the plot to evolove by itself\n",
    "\n",
    "    return fig"
   ]
  },
  {
   "cell_type": "code",
   "execution_count": null,
   "metadata": {},
   "outputs": [],
   "source": [
    "# running the server \n",
    "app.run_server(mode = \"inline\")\n",
    "#app.run_server(mode = \"external\")\n",
    "#app.run_server(mode = \"jupyterlab\")"
   ]
  }
 ],
 "metadata": {
  "kernelspec": {
   "display_name": "Python 3",
   "language": "python",
   "name": "python3"
  },
  "language_info": {
   "codemirror_mode": {
    "name": "ipython",
    "version": 3
   },
   "file_extension": ".py",
   "mimetype": "text/x-python",
   "name": "python",
   "nbconvert_exporter": "python",
   "pygments_lexer": "ipython3",
   "version": "3.9.0"
  }
 },
 "nbformat": 4,
 "nbformat_minor": 4
}
