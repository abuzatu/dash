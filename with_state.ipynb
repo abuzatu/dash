{
 "cells": [
  {
   "cell_type": "markdown",
   "metadata": {},
   "source": [
    "# Dash App Layout With State\n",
    "\n",
    "As in an online form\n",
    "\n",
    "https://dash.plotly.com/basic-callbacks"
   ]
  },
  {
   "cell_type": "code",
   "execution_count": null,
   "metadata": {},
   "outputs": [],
   "source": [
    "# importrequired libraries \n",
    "from jupyter_dash import JupyterDash\n",
    "import dash_core_components as dcc # for graphs\n",
    "import dash_html_components as html # for html\n",
    "from dash.dependencies import Input, Output, State # for callbacks"
   ]
  },
  {
   "cell_type": "code",
   "execution_count": null,
   "metadata": {},
   "outputs": [],
   "source": [
    "# we'll use an external CSS style sheet\n",
    "EXTERNAL_STYLESHEETS = [\"https://codepen.io/chriddyp/pen/bWLwgP.css\"]"
   ]
  },
  {
   "cell_type": "markdown",
   "metadata": {},
   "source": [
    "# The usual\n",
    "\n",
    "As long as you change one value, the callback is fired.\n",
    "\n",
    "We do not want that. We want for both values to be entered before firing the call back."
   ]
  },
  {
   "cell_type": "code",
   "execution_count": null,
   "metadata": {},
   "outputs": [],
   "source": [
    "# initialize the dash app\n",
    "app = JupyterDash(__name__, external_stylesheets = EXTERNAL_STYLESHEETS ) "
   ]
  },
  {
   "cell_type": "code",
   "execution_count": null,
   "metadata": {},
   "outputs": [],
   "source": [
    "# layout of the dashboard, without writing explicit html\n",
    "app.layout = html.Div(\n",
    "    [\n",
    "        dcc.Input(id=\"input-1\", type=\"text\", value=\"Montréal\"),\n",
    "        dcc.Input(id=\"input-2\", type=\"text\", value=\"Canada\"),\n",
    "        html.Div(id=\"number-output\"),\n",
    "    ]\n",
    ")"
   ]
  },
  {
   "cell_type": "code",
   "execution_count": null,
   "metadata": {},
   "outputs": [],
   "source": [
    "# function ow to update the data at each callback\n",
    "# note the code for function and the callback decorators must be together in the same cell\n",
    "\n",
    "@app.callback(\n",
    "    Output(\"number-output\", \"children\"),\n",
    "    Input(\"input-1\", \"value\"),\n",
    "    Input(\"input-2\", \"value\"),\n",
    ")\n",
    "def update_output(input1, input2):\n",
    "    return u'Input 1 is \"{}\" and Input 2 is \"{}\"'.format(input1, input2)\n"
   ]
  },
  {
   "cell_type": "code",
   "execution_count": null,
   "metadata": {},
   "outputs": [],
   "source": [
    "# running the server \n",
    "# app.run_server(mode = \"inline\")\n",
    "#app.run_server(mode = \"external\")\n",
    "#app.run_server(mode = \"jupyterlab\")"
   ]
  },
  {
   "cell_type": "markdown",
   "metadata": {},
   "source": [
    "# The new with state\n",
    "\n",
    "As long as you change one value, the callback is fired.\n",
    "\n",
    "We do not want that. We want for both values to be entered before firing the call back.\n"
   ]
  },
  {
   "cell_type": "code",
   "execution_count": null,
   "metadata": {},
   "outputs": [],
   "source": [
    "# initialize the dash app\n",
    "app = JupyterDash(__name__, external_stylesheets = EXTERNAL_STYLESHEETS ) "
   ]
  },
  {
   "cell_type": "code",
   "execution_count": null,
   "metadata": {},
   "outputs": [],
   "source": [
    "# layout of the dashboard, without writing explicit html\n",
    "app.layout = html.Div([\n",
    "    dcc.Input(id='input-1-state', type='text', value='Montréal'),\n",
    "    dcc.Input(id='input-2-state', type='text', value='Canada'),\n",
    "    html.Button(id='submit-button-state', n_clicks=0, children='Submit'),\n",
    "    html.Div(id='output-state')\n",
    "])"
   ]
  },
  {
   "cell_type": "code",
   "execution_count": null,
   "metadata": {},
   "outputs": [],
   "source": [
    "# function ow to update the data at each callback\n",
    "# note the code for function and the callback decorators must be together in the same cell\n",
    "\n",
    "@app.callback(Output('output-state', 'children'),\n",
    "              Input('submit-button-state', 'n_clicks'),\n",
    "              State('input-1-state', 'value'),\n",
    "              State('input-2-state', 'value'))\n",
    "def update_output(n_clicks, input1, input2):\n",
    "    return u'''\n",
    "        The Button has been pressed {} times,\n",
    "        Input 1 is \"{}\",\n",
    "        and Input 2 is \"{}\"\n",
    "    '''.format(n_clicks, input1, input2)"
   ]
  },
  {
   "cell_type": "code",
   "execution_count": null,
   "metadata": {},
   "outputs": [],
   "source": [
    "# running the server \n",
    "app.run_server(mode = \"inline\")\n",
    "#app.run_server(mode = \"external\")\n",
    "#app.run_server(mode = \"jupyterlab\")"
   ]
  },
  {
   "cell_type": "code",
   "execution_count": null,
   "metadata": {},
   "outputs": [],
   "source": []
  }
 ],
 "metadata": {
  "kernelspec": {
   "display_name": "Python 3",
   "language": "python",
   "name": "python3"
  },
  "language_info": {
   "codemirror_mode": {
    "name": "ipython",
    "version": 3
   },
   "file_extension": ".py",
   "mimetype": "text/x-python",
   "name": "python",
   "nbconvert_exporter": "python",
   "pygments_lexer": "ipython3",
   "version": "3.9.0"
  }
 },
 "nbformat": 4,
 "nbformat_minor": 4
}
