{
 "cells": [
  {
   "cell_type": "markdown",
   "metadata": {},
   "source": [
    "# Let's integrate in Dash an interactive map with folium\n",
    "\n",
    "An example code for another map in [Medium](https://medium.com/@shachiakyaagba_41915/integrating-folium-with-dash-5338604e7c56)."
   ]
  },
  {
   "cell_type": "code",
   "execution_count": 1,
   "metadata": {},
   "outputs": [],
   "source": [
    "# import required libraries \n",
    "from jupyter_dash import JupyterDash\n",
    "import dash_core_components as dcc # for graphs\n",
    "import dash_html_components as html # for html\n",
    "from dash.dependencies import Input, Output # for callbacks"
   ]
  },
  {
   "cell_type": "code",
   "execution_count": 2,
   "metadata": {},
   "outputs": [],
   "source": [
    "input_file_name = \"/Users/abuzatu/Work/data/geo_spatial/USA/volcanoes/folium_map_volcanoes.html\""
   ]
  },
  {
   "cell_type": "code",
   "execution_count": 3,
   "metadata": {},
   "outputs": [],
   "source": [
    "# initialize the dash app\n",
    "app = JupyterDash(__name__)"
   ]
  },
  {
   "cell_type": "code",
   "execution_count": 4,
   "metadata": {},
   "outputs": [],
   "source": [
    "# layout of the dashboard, without writing explicit html\n",
    "app.layout = html.Div([\n",
    "    html.H1(\"Interactive map of volcanoes in the USA\"),\n",
    "    html.Iframe(id = \"map\",\n",
    "                srcDoc = open(input_file_name, \"r\").read(),\n",
    "                width = \"100%\",\n",
    "                height = \"600\",\n",
    "               )\n",
    "])"
   ]
  },
  {
   "cell_type": "code",
   "execution_count": 5,
   "metadata": {
    "scrolled": true
   },
   "outputs": [
    {
     "data": {
      "text/html": [
       "\n",
       "        <iframe\n",
       "            width=\"100%\"\n",
       "            height=\"650\"\n",
       "            src=\"http://127.0.0.1:8050/\"\n",
       "            frameborder=\"0\"\n",
       "            allowfullscreen\n",
       "        ></iframe>\n",
       "        "
      ],
      "text/plain": [
       "<IPython.lib.display.IFrame at 0x10259dd90>"
      ]
     },
     "metadata": {},
     "output_type": "display_data"
    }
   ],
   "source": [
    "# running the server \n",
    "app.run_server(mode = \"inline\")\n",
    "#app.run_server(mode = \"external\")\n",
    "#app.run_server(mode = \"jupyterlab\")"
   ]
  },
  {
   "cell_type": "code",
   "execution_count": null,
   "metadata": {},
   "outputs": [],
   "source": []
  }
 ],
 "metadata": {
  "kernelspec": {
   "display_name": "Python 3",
   "language": "python",
   "name": "python3"
  },
  "language_info": {
   "codemirror_mode": {
    "name": "ipython",
    "version": 3
   },
   "file_extension": ".py",
   "mimetype": "text/x-python",
   "name": "python",
   "nbconvert_exporter": "python",
   "pygments_lexer": "ipython3",
   "version": "3.9.0"
  }
 },
 "nbformat": 4,
 "nbformat_minor": 4
}
