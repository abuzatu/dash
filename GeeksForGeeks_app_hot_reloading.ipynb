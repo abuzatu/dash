{
 "cells": [
  {
   "cell_type": "markdown",
   "metadata": {},
   "source": [
    "# Follow dash tutorial from GeeksForGeeks\n",
    "\n",
    "https://www.geeksforgeeks.org/plot-live-graphs-using-python-dash-and-plotly/?ref=rp\n",
    "\n",
    "This is an example of an app with hot reloading, meaning the state of the app does not change, but the plot is updated automatically when new data arrives.\n",
    "\n",
    "Now, let’s build a dashboard that generates random data, appends it onto a buffer at regular intervals and visualizes the same. \n",
    "\n",
    "Interactive plots in python are done from plotly: https://plotly.com/python/"
   ]
  },
  {
   "cell_type": "code",
   "execution_count": null,
   "metadata": {},
   "outputs": [],
   "source": [
    "# importrequired libraries \n",
    "from jupyter_dash import JupyterDash\n",
    "import dash_core_components as dcc # for graphs\n",
    "import dash_html_components as html # for html\n",
    "from dash.dependencies import Input, Output # for callbacks\n",
    "import plotly\n",
    "import plotly.graph_objs as go\n",
    "import random\n",
    "from collections import deque"
   ]
  },
  {
   "cell_type": "code",
   "execution_count": null,
   "metadata": {},
   "outputs": [],
   "source": [
    "# create two deques with one element each\n",
    "# keep only these number of elements. Then with any new element added, the first one is removed.\n",
    "# that is why deque is a good container choice\n",
    "MAX_LENGTH = 20\n",
    "\n",
    "X = deque(maxlen = MAX_LENGTH)\n",
    "X.append(1)\n",
    "\n",
    "Y = deque(maxlen = MAX_LENGTH)\n",
    "Y.append(1)"
   ]
  },
  {
   "cell_type": "code",
   "execution_count": null,
   "metadata": {},
   "outputs": [],
   "source": [
    "# initialize the dash app\n",
    "app = JupyterDash(__name__) "
   ]
  },
  {
   "cell_type": "code",
   "execution_count": null,
   "metadata": {},
   "outputs": [],
   "source": [
    "# layout of the dashboard, without writing explicit html\n",
    "app.layout = html.Div( \n",
    "    [ \n",
    "        dcc.Graph(id = \"live-graph\", animate = True), \n",
    "        dcc.Interval( \n",
    "            id = \"graph-update\", \n",
    "            interval = 1000, \n",
    "            n_intervals = 0\n",
    "        ), \n",
    "    ] \n",
    ") "
   ]
  },
  {
   "cell_type": "code",
   "execution_count": null,
   "metadata": {},
   "outputs": [],
   "source": [
    "# function ow to update the data at each callback\n",
    "# note the code for function and the callback decorators must be together in the same cell\n",
    "@app.callback( \n",
    "    Output(\"live-graph\", \"figure\"), \n",
    "    [ Input(\"graph-update\", \"n_intervals\") ] \n",
    ") \n",
    "  \n",
    "def update_graph_scatter(n): \n",
    "    X.append(X[-1]+1) \n",
    "    Y.append(Y[-1]+Y[-1] * random.uniform(-0.1, 0.1)) \n",
    "  \n",
    "    data = go.Scatter( \n",
    "            x = list(X), \n",
    "            y = list(Y), \n",
    "            name = \"Scatter\", \n",
    "            mode = \"lines+markers\"\n",
    "    ) \n",
    "  \n",
    "    return {\"data\": [data], \n",
    "            \"layout\" : go.Layout(xaxis = dict(range = [min(X), max(X)]),\n",
    "                                 yaxis = dict(range = [min(Y), max(Y)]),\n",
    "                                )\n",
    "           } "
   ]
  },
  {
   "cell_type": "code",
   "execution_count": null,
   "metadata": {},
   "outputs": [],
   "source": [
    "# running the server \n",
    "app.run_server(mode = \"inline\")\n",
    "#app.run_server(mode = \"external\")"
   ]
  }
 ],
 "metadata": {
  "kernelspec": {
   "display_name": "Python 3",
   "language": "python",
   "name": "python3"
  },
  "language_info": {
   "codemirror_mode": {
    "name": "ipython",
    "version": 3
   },
   "file_extension": ".py",
   "mimetype": "text/x-python",
   "name": "python",
   "nbconvert_exporter": "python",
   "pygments_lexer": "ipython3",
   "version": "3.9.0"
  }
 },
 "nbformat": 4,
 "nbformat_minor": 4
}
