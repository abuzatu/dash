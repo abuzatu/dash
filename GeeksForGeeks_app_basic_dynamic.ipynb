{
 "cells": [
  {
   "cell_type": "markdown",
   "metadata": {},
   "source": [
    "# Follow dash totorial from GeeksForGeeks\n",
    "\n",
    "https://www.geeksforgeeks.org/introduction-to-dash-in-python/\n",
    "\n",
    "This is a basic dynamic app."
   ]
  },
  {
   "cell_type": "code",
   "execution_count": null,
   "metadata": {},
   "outputs": [],
   "source": [
    "# import required libraries \n",
    "from jupyter_dash import JupyterDash\n",
    "import dash_core_components as dcc\n",
    "import dash_html_components as html\n",
    "from dash.dependencies import Input, Output"
   ]
  },
  {
   "cell_type": "code",
   "execution_count": null,
   "metadata": {},
   "outputs": [],
   "source": [
    "app = JupyterDash(__name__)"
   ]
  },
  {
   "cell_type": "code",
   "execution_count": null,
   "metadata": {},
   "outputs": [],
   "source": [
    "# basic dynamic map\n",
    "app.layout = html.Div(children = [\n",
    "    html.H1(\"Dash Simple Dynamic App\"),\n",
    "    html.H3(\"For a number it returns the square\"),\n",
    "    dcc.Input(id = \"input\",  \n",
    "              value = \"Enter a number\",  \n",
    "              type = \"text\"),\n",
    "    html.Div(id = \"output\"),\n",
    "    html.H4(\"Some text at the end\"),\n",
    "])"
   ]
  },
  {
   "cell_type": "code",
   "execution_count": null,
   "metadata": {},
   "outputs": [],
   "source": [
    "@app.callback( \n",
    "    Output(component_id = \"output\", component_property = \"children\"), \n",
    "    [Input(component_id = \"input\", component_property = \"value\")] \n",
    ") \n",
    "def update_value(input_data): \n",
    "    try: \n",
    "        return str(float(input_data)**2) \n",
    "    except: \n",
    "        return \"Error, the input is not a number\""
   ]
  },
  {
   "cell_type": "code",
   "execution_count": null,
   "metadata": {},
   "outputs": [],
   "source": [
    "# running the server \n",
    "app.run_server(mode = \"inline\") "
   ]
  },
  {
   "cell_type": "code",
   "execution_count": null,
   "metadata": {},
   "outputs": [],
   "source": []
  }
 ],
 "metadata": {
  "kernelspec": {
   "display_name": "Python 3",
   "language": "python",
   "name": "python3"
  },
  "language_info": {
   "codemirror_mode": {
    "name": "ipython",
    "version": 3
   },
   "file_extension": ".py",
   "mimetype": "text/x-python",
   "name": "python",
   "nbconvert_exporter": "python",
   "pygments_lexer": "ipython3",
   "version": "3.9.0"
  }
 },
 "nbformat": 4,
 "nbformat_minor": 4
}
