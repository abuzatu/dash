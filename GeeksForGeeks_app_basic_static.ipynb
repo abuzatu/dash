{
 "cells": [
  {
   "cell_type": "markdown",
   "metadata": {},
   "source": [
    "# Follow dash totorial from GeeksForGeeks\n",
    "\n",
    "https://www.geeksforgeeks.org/introduction-to-dash-in-python/\n",
    "\n",
    "This is a basic static app."
   ]
  },
  {
   "cell_type": "code",
   "execution_count": 1,
   "metadata": {},
   "outputs": [],
   "source": [
    "# importing required libraries \n",
    "from jupyter_dash import JupyterDash\n",
    "import dash_core_components as dcc\n",
    "import dash_html_components as html\n",
    "from jupyter_dash import JupyterDash"
   ]
  },
  {
   "cell_type": "code",
   "execution_count": 2,
   "metadata": {},
   "outputs": [],
   "source": [
    "app = JupyterDash(__name__)"
   ]
  },
  {
   "cell_type": "code",
   "execution_count": 3,
   "metadata": {},
   "outputs": [],
   "source": [
    "# basic static app\n",
    "app.layout = html.Div(children = [ \n",
    "    html.H1(\"Dash Tutorial\"), \n",
    "    dcc.Graph( \n",
    "        id = \"example\", \n",
    "        figure = { \n",
    "            \"data\" : [ \n",
    "                       {\"x\" : [1, 2, 3, 4, 5], \n",
    "                        \"y\" : [5, 4, 7, 4, 8], \n",
    "                        \"type\" : \"line\",  \n",
    "                        \"name\" : \"Trucks\"}, \n",
    "                       {\"x\" : [1, 2, 3, 4, 5],  \n",
    "                        \"y\" : [6, 3, 5, 3, 7],  \n",
    "                        \"type\" : \"bar\", \n",
    "                        \"name\" : \"Ships\"} \n",
    "                   ], \n",
    "            \"layout\" : { \n",
    "                \"title\" : \"Basic Dashboard\"\n",
    "            } \n",
    "        } \n",
    "    ) \n",
    "]) "
   ]
  },
  {
   "cell_type": "code",
   "execution_count": 4,
   "metadata": {},
   "outputs": [
    {
     "data": {
      "text/html": [
       "\n",
       "        <iframe\n",
       "            width=\"100%\"\n",
       "            height=\"650\"\n",
       "            src=\"http://127.0.0.1:8051/\"\n",
       "            frameborder=\"0\"\n",
       "            allowfullscreen\n",
       "        ></iframe>\n",
       "        "
      ],
      "text/plain": [
       "<IPython.lib.display.IFrame at 0x10cae4370>"
      ]
     },
     "metadata": {},
     "output_type": "display_data"
    }
   ],
   "source": [
    "app.run_server(mode = \"inline\", port = 8051) "
   ]
  },
  {
   "cell_type": "code",
   "execution_count": null,
   "metadata": {},
   "outputs": [],
   "source": []
  }
 ],
 "metadata": {
  "kernelspec": {
   "display_name": "Python 3",
   "language": "python",
   "name": "python3"
  },
  "language_info": {
   "codemirror_mode": {
    "name": "ipython",
    "version": 3
   },
   "file_extension": ".py",
   "mimetype": "text/x-python",
   "name": "python",
   "nbconvert_exporter": "python",
   "pygments_lexer": "ipython3",
   "version": "3.8.6"
  }
 },
 "nbformat": 4,
 "nbformat_minor": 4
}
